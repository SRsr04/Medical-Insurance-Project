{
 "cells": [
  {
   "cell_type": "code",
   "execution_count": 274,
   "id": "339dc24b-72bc-458a-9ed4-1ac370ac0629",
   "metadata": {},
   "outputs": [],
   "source": [
    "# create empty lists for the various attributes in insurance.csv \n",
    "\n",
    "import csv\n",
    "\n",
    "ages = []\n",
    "sexes = []\n",
    "bmis = []\n",
    "num_children = []\n",
    "smoker_statuses = []\n",
    "regions = []\n",
    "insurance_charges = []\n",
    "\n",
    "# helper function to load csv data\n",
    "def load_data_csv(lst, csv_file, column_name):\n",
    "    with open(csv_file) as csv_info:\n",
    "        dict_reader = csv.DictReader(csv_info)\n",
    "\n",
    "         # add the data from each row to a list\n",
    "        for row in dict_reader:\n",
    "            lst.append(row[column_name])\n",
    "    return lst"
   ]
  },
  {
   "cell_type": "code",
   "execution_count": null,
   "id": "cfb4fe70-f81d-499c-8e98-4a595e911d20",
   "metadata": {},
   "outputs": [],
   "source": [
    "load_data_csv(ages, \"insurance.csv\", \"age\")\n",
    "load_data_csv(sexes, \"insurance.csv\", \"sex\")\n",
    "load_data_csv(bmis , \"insurance.csv\", \"bmi\")\n",
    "load_data_csv(num_children, \"insurance.csv\", \"children\")\n",
    "load_data_csv(smoker_statuses, \"insurance.csv\", \"smoker\")\n",
    "load_data_csv(regions, \"insurance.csv\", \"region\")\n",
    "load_data_csv(insurance_charges, \"insurance.csv\", \"charges\")"
   ]
  },
  {
   "cell_type": "code",
   "execution_count": 278,
   "id": "e53e60ce-18c6-40e1-bc6f-739514a43f6e",
   "metadata": {},
   "outputs": [
    {
     "name": "stdout",
     "output_type": "stream",
     "text": [
      "Average age is 39.20702541106129\n"
     ]
    }
   ],
   "source": [
    "# average ages of the patients in insurance.csv\n",
    "\n",
    "age = 0\n",
    "\n",
    "for i in ages:\n",
    "    age += int(i)\n",
    "\n",
    "average_age = age / len(ages)\n",
    "print(\"Average age is \" + str(average_age))"
   ]
  },
  {
   "cell_type": "code",
   "execution_count": 280,
   "id": "0e95a67e-8423-4e23-8250-f07eb8e16b70",
   "metadata": {},
   "outputs": [
    {
     "name": "stdout",
     "output_type": "stream",
     "text": [
      "The number of men is 676\n",
      "The number of women is 662\n"
     ]
    }
   ],
   "source": [
    "# what number of males and females in insurance.csv\n",
    "\n",
    "male = []\n",
    "female = []\n",
    "\n",
    "for sex in sexes:\n",
    "    if sex == \"male\":\n",
    "        male.append(sex)\n",
    "    else:\n",
    "        female.append(sex)\n",
    "\n",
    "print('The number of men is ' + str(len(male)))\n",
    "print(\"The number of women is \" + str(len(female)))"
   ]
  },
  {
   "cell_type": "code",
   "execution_count": 282,
   "id": "14ac35b2-0994-4d4b-bc2a-e658040a563c",
   "metadata": {},
   "outputs": [
    {
     "name": "stdout",
     "output_type": "stream",
     "text": [
      "The number of smokers is 274\n",
      "'The number of non-smokers is 1064\n",
      "Proportion of smoker to non-smoker person is 0.2575187969924812\n"
     ]
    }
   ],
   "source": [
    "# what number of smokers and non-smokers in insurance.csv\n",
    "\n",
    "smoker = []\n",
    "non_smoker = []\n",
    "\n",
    "for i in smoker_statuses:\n",
    "    if i == \"yes\":\n",
    "        smoker.append(i)\n",
    "    else:\n",
    "        non_smoker.append(i)\n",
    "        \n",
    "print(\"The number of smokers is \" + str(len(smoker)))\n",
    "print(\"'The number of non-smokers is \" + str(len(non_smoker)))\n",
    "print(\"Proportion of smoker to non-smoker person is \" + str(len(smoker) / len(non_smoker)))"
   ]
  },
  {
   "cell_type": "code",
   "execution_count": null,
   "id": "1e293517-f48d-4a9e-a4d0-9ad48cb6a28b",
   "metadata": {},
   "outputs": [],
   "source": [
    "# creating dictionary from lists\n",
    "\n",
    "with open(\"insurance.csv\") as insurance_file:\n",
    "    file_reader = csv.reader(insurance_file)\n",
    "    column_name = next(file_reader)\n",
    "\n",
    "    data_dict = {}\n",
    "    \n",
    "    row_number = 1\n",
    "    \n",
    "    for row in file_reader:\n",
    "        row_dict = {name: value for name, value in zip(column_name, row)}\n",
    "        data_dict[row_number] = row_dict\n",
    "        row_number += 1\n",
    "\n",
    "print(data_dict)"
   ]
  },
  {
   "cell_type": "code",
   "execution_count": null,
   "id": "3a20f22e-3b60-4365-a2e2-c56588f0a7a6",
   "metadata": {},
   "outputs": [],
   "source": [
    "# categorization insurance charges for smoker and non-smoker people\n",
    "\n",
    "smoker_charges = []\n",
    "non_smoker_charges = []\n",
    "\n",
    "for i in data_dict.values():\n",
    "    smoker = i[\"smoker\"]\n",
    "    charges = i[\"charges\"]\n",
    "    \n",
    "    if smoker == \"yes\":\n",
    "        smoker_charges.append(charges)\n",
    "    else:\n",
    "        non_smoker_charges.append(charges)\n",
    "        \n",
    "print(non_smoker_charges)"
   ]
  },
  {
   "cell_type": "code",
   "execution_count": 288,
   "id": "75caee25-d515-4499-a9ef-6417a4bfc0b7",
   "metadata": {},
   "outputs": [
    {
     "name": "stdout",
     "output_type": "stream",
     "text": [
      "Insurance charges for smoker people is 8781763 USD\n",
      "Insurance charges for non smoker people is 8974061 USD\n"
     ]
    }
   ],
   "source": [
    "# the total costs of smoker and non-smoker people\n",
    "\n",
    "smoker_total = 0\n",
    "non_smoker_total = 0\n",
    "\n",
    "for i in smoker_charges:\n",
    "    if i:\n",
    "        smoker_total += float(i)\n",
    "\n",
    "for i in non_smoker_charges:\n",
    "    if i:\n",
    "        non_smoker_total += float(i)\n",
    "\n",
    "print(\"Insurance charges for smoker people is \" + str(int(smoker_total)) + \" USD\")\n",
    "print(\"Insurance charges for non smoker people is \" + str(int(non_smoker_total)) + \" USD\")"
   ]
  },
  {
   "cell_type": "code",
   "execution_count": 290,
   "id": "76755bde-9031-4335-a2c4-6eb6ec36d284",
   "metadata": {},
   "outputs": [
    {
     "name": "stdout",
     "output_type": "stream",
     "text": [
      "Average charges for non-smoker people are 8434 USD\n",
      "Average charges for smoker people are 32050 USD\n"
     ]
    }
   ],
   "source": [
    "# average charges for smoker and non-smoker people\n",
    "\n",
    "non_smoker_average = int((non_smoker_total) / len(non_smoker_charges))\n",
    "smoker_average = int((smoker_total) / len(smoker_charges))\n",
    "\n",
    "print(\"Average charges for non-smoker people are \" + str(non_smoker_average) + \" USD\")\n",
    "print(\"Average charges for smoker people are \" + str(smoker_average) + \" USD\")"
   ]
  },
  {
   "cell_type": "code",
   "execution_count": 292,
   "id": "c15e04bc-4669-4ef2-b0ce-336e8e170d23",
   "metadata": {},
   "outputs": [
    {
     "name": "stdout",
     "output_type": "stream",
     "text": [
      "['southwest', 'southeast', 'northwest', 'northeast']\n"
     ]
    }
   ],
   "source": [
    "# find unique regions in insurance.csv\n",
    "\n",
    "unique_regions = []\n",
    "\n",
    "for i in regions:\n",
    "    if i not in unique_regions:\n",
    "        unique_regions.append(i)\n",
    "        \n",
    "print(unique_regions)"
   ]
  },
  {
   "cell_type": "code",
   "execution_count": null,
   "id": "8dca32b1-e108-41c5-8aea-a2e4acba9076",
   "metadata": {},
   "outputs": [],
   "source": [
    "# categorization childs for smoker and non-smoker people\n",
    "\n",
    "smoker_childs = []\n",
    "non_smoker_childs = []\n",
    "\n",
    "for i in data_dict.values():\n",
    "    smoker = i[\"smoker\"]\n",
    "    child = i[\"children\"]\n",
    "    \n",
    "    if smoker == \"yes\":\n",
    "        smoker_childs.append(child)\n",
    "    else:\n",
    "        non_smoker_childs.append(child)\n",
    "        \n",
    "print(non_smoker_childs)"
   ]
  },
  {
   "cell_type": "code",
   "execution_count": 296,
   "id": "5a45bffd-4ca3-4353-9a59-19978935c888",
   "metadata": {},
   "outputs": [
    {
     "name": "stdout",
     "output_type": "stream",
     "text": [
      "In sum, people who smoke have 305 childs, while non-smoker people have 1160 childs\n"
     ]
    }
   ],
   "source": [
    "# number of child for smoker and non-smoker people\n",
    "\n",
    "smoker_total_childs = 0\n",
    "nonsmoker_total_childs = 0\n",
    "\n",
    "for i in smoker_childs:\n",
    "    if i :\n",
    "        smoker_total_childs += int(i)\n",
    "\n",
    "for i in non_smoker_childs:\n",
    "    if i :\n",
    "        nonsmoker_total_childs += int(i)\n",
    "        \n",
    "print(\"In sum, people who smoke have \" + str(smoker_total_childs) + \" childs, while non-smoker people have \" + \\\n",
    "      str(nonsmoker_total_childs) + \" childs\")"
   ]
  },
  {
   "cell_type": "code",
   "execution_count": 298,
   "id": "ee6d8fce-d9cc-4e5b-93fa-da92dbf5eb72",
   "metadata": {},
   "outputs": [
    {
     "name": "stdout",
     "output_type": "stream",
     "text": [
      "There is 159 males and 115 females who are smokers\n"
     ]
    }
   ],
   "source": [
    "# what number of males and females smokers in insurance.csv\n",
    "\n",
    "female_smoker = 0\n",
    "male_smoker = 0\n",
    "\n",
    "for i in data_dict.values():\n",
    "    smoker = i[\"smoker\"]\n",
    "    sex = i[\"sex\"]\n",
    "    \n",
    "    if smoker == \"yes\" and sex == \"male\":\n",
    "        male_smoker += 1\n",
    "    elif smoker == \"yes\" and sex == \"female\":\n",
    "        female_smoker += 1\n",
    "\n",
    "print(\"There is \" + str(male_smoker) + \" males and \" + str(female_smoker) + \" females who are smokers\")"
   ]
  },
  {
   "cell_type": "code",
   "execution_count": 300,
   "id": "a6ff70e4-b425-4392-a025-af8861abd8cd",
   "metadata": {},
   "outputs": [
    {
     "name": "stdout",
     "output_type": "stream",
     "text": [
      "There is 517 males and 547 females who aren't smokers\n"
     ]
    }
   ],
   "source": [
    "# what number of males and females non-smokers in insurance.csv\n",
    "\n",
    "female_non_smoker = 0\n",
    "male_non_smoker = 0\n",
    "\n",
    "for i in data_dict.values():\n",
    "    smoker = i[\"smoker\"]\n",
    "    sex = i[\"sex\"]\n",
    "    \n",
    "    if smoker == \"no\" and sex == \"male\":\n",
    "        male_non_smoker += 1\n",
    "    elif smoker == \"no\" and sex == \"female\":\n",
    "        female_non_smoker += 1\n",
    "\n",
    "print(\"There is \" + str(male_non_smoker) + \" males and \" + str(female_non_smoker) + \" females who aren't smokers\")"
   ]
  },
  {
   "cell_type": "code",
   "execution_count": 302,
   "id": "e71c291c-60d5-491c-b587-9f076f0d514a",
   "metadata": {},
   "outputs": [],
   "source": [
    "# total charges per region in insurance.csv\n",
    "\n",
    "southwest_total = 0\n",
    "southeast_total = 0\n",
    "northwest_total = 0\n",
    "northeast_total = 0\n",
    "\n",
    "for i in data_dict.values():\n",
    "    region = i[\"region\"]\n",
    "    charge = i[\"charges\"]\n",
    "    \n",
    "    if region == \"southwest\":\n",
    "        southwest_total += float(charge)\n",
    "    elif region == \"southeast\":\n",
    "        southeast_total += float(charge)\n",
    "    elif region == \"northwest\":\n",
    "        northwest_total += float(charge)\n",
    "    else:\n",
    "        northeast_total += float(charge)"
   ]
  },
  {
   "cell_type": "code",
   "execution_count": 304,
   "id": "03a78ed0-25f8-4b05-a620-50d7411fccf1",
   "metadata": {},
   "outputs": [
    {
     "name": "stdout",
     "output_type": "stream",
     "text": [
      "325 364 325 324\n"
     ]
    }
   ],
   "source": [
    "# number of patiens per region in insurance.csv\n",
    "\n",
    "southwest = []\n",
    "southeast = []\n",
    "northwest = []\n",
    "northeast = []\n",
    "\n",
    "for i in regions:\n",
    "    if i == \"southwest\":\n",
    "        southwest.append(i)\n",
    "    elif i == \"southeast\":\n",
    "        southeast.append(i)\n",
    "    elif i == \"northwest\":\n",
    "        northwest.append(i)\n",
    "    else:\n",
    "        northeast.append(i)\n",
    "        \n",
    "print(len(southwest), len(southeast), len(northwest), len(northeast))"
   ]
  },
  {
   "cell_type": "code",
   "execution_count": 306,
   "id": "c15b0245-9380-4a77-a21d-c023eb78923c",
   "metadata": {},
   "outputs": [
    {
     "name": "stdout",
     "output_type": "stream",
     "text": [
      "Average charges for southwest region is 12346 dollars.\n",
      "Average charges for southeast region is 14735 dollars.\n",
      "Average charges for northwest region is 12417 dollars.\n",
      "Average charges for northeast region is 13406 dollars.\n"
     ]
    }
   ],
   "source": [
    "# the average costs by region in insurance.csv\n",
    "\n",
    "average_southwest = int(southwest_total / len(southwest))\n",
    "average_southeast = int(southeast_total / len(southeast))\n",
    "average_northwest = int(northwest_total / len(northwest))\n",
    "average_northeast = int(northeast_total / len(northeast))\n",
    "\n",
    "print(\"Average charges for southwest region is \" + str(average_southwest) + \" dollars.\\n\"\\\n",
    "     \"Average charges for southeast region is \" + str(average_southeast) + \" dollars.\\n\"\\\n",
    "     \"Average charges for northwest region is \" + str(average_northwest) + \" dollars.\\n\"\\\n",
    "     \"Average charges for northeast region is \" + str(average_northeast) + \" dollars.\")"
   ]
  },
  {
   "cell_type": "code",
   "execution_count": 308,
   "id": "d128803a-fdbc-48be-b0d2-2336d99606dc",
   "metadata": {},
   "outputs": [
    {
     "name": "stdout",
     "output_type": "stream",
     "text": [
      "64\n"
     ]
    }
   ],
   "source": [
    "# find max age in insurance.csv\n",
    "\n",
    "max_age = 0\n",
    "\n",
    "for i in ages:\n",
    "    if int(i) > max_age:\n",
    "        max_age = int(i)\n",
    "\n",
    "print(max_age)"
   ]
  },
  {
   "cell_type": "code",
   "execution_count": 310,
   "id": "c2c9a78a-db98-4d37-bfc0-60389e8d506e",
   "metadata": {},
   "outputs": [],
   "source": [
    "# function which categorization patients by age group\n",
    "\n",
    "# def age_scales(data_dict):\n",
    "    #age_groups = {25: 25, \n",
    "              #30: 30, \n",
    "              #40: 40, \n",
    "              #50: 50, \n",
    "              #60: 60}\n",
    "    \n",
    "   # ages_scales = {25: [], \n",
    "                   #30: [], \n",
    "                   #40: [], \n",
    "                   #50: [], \n",
    "                   #60: [], \n",
    "                   #70: []}\n",
    "\n",
    " #   for age in data_dict.values():\n",
    " #       age = age[\"age\"]\n",
    "        \n",
    " #      for scale, upper_bond in age_groups.items():\n",
    " #           if int(age) <= upper_bond:\n",
    "  #              ages_scales[scale].append(age)\n",
    "   #             break\n",
    "    #    else:\n",
    "     #       ages_scales[70].append(age)\n",
    "                \n",
    "    #return ages_scales \n",
    "\n",
    "#by_age_groups = age_scales(data_dict)\n",
    "#print(by_age_groups)"
   ]
  },
  {
   "cell_type": "code",
   "execution_count": 312,
   "id": "bf941f97-4b2b-4a9a-ae0b-bd02810d99a9",
   "metadata": {},
   "outputs": [],
   "source": [
    "# combine ages and insurance_charges lists in one\n",
    "\n",
    "zipped_ages = list(zip(ages, insurance_charges))\n",
    "\n",
    "group_25 = []\n",
    "group_30 = []\n",
    "group_40 = []\n",
    "group_50 = []\n",
    "group_60 = []\n",
    "group_70 = []\n",
    "\n",
    "for i in zipped_ages:\n",
    "    if int(i[0]) <= 25:\n",
    "        group_25.append(i)\n",
    "        \n",
    "    elif int(i[0]) <= 30 and int(i[0]) > 25:\n",
    "        group_30.append(i)\n",
    "        \n",
    "    elif int(i[0]) <= 40 and int(i[0]) > 30:\n",
    "        group_40.append(i)\n",
    "        \n",
    "    elif int(i[0]) <= 50 and int(i[0]) > 40:\n",
    "        group_50.append(i)\n",
    "        \n",
    "    elif int(i[0]) <= 60 and int(i[0]) > 50:\n",
    "        group_60.append(i)\n",
    "        \n",
    "    else:\n",
    "        group_70.append(i)"
   ]
  },
  {
   "cell_type": "code",
   "execution_count": 314,
   "id": "c122d059-47fb-4b22-81e2-ad52f96b7a48",
   "metadata": {},
   "outputs": [
    {
     "name": "stdout",
     "output_type": "stream",
     "text": [
      "The total amount of insurance charges for age group 18-25 is 2780626 dollars.\n",
      "The total amount of insurance charges for age group 25-30 is 1391886 dollars.\n",
      "The total amount of insurance charges for age group 30-40 is 2991302 dollars.\n",
      "The total amount of insurance charges for age group 40-50 is 4153754 dollars.\n",
      "The total amount of insurance charges for age group 50-60 is 4521507 dollars.\n",
      "The total amount of insurance charges for age group 60+ is 1916747 dollars.\n"
     ]
    }
   ],
   "source": [
    "# find total insurance charges for different age groups\n",
    "\n",
    "charges_25 = 0\n",
    "charges_30 = 0\n",
    "charges_40 = 0\n",
    "charges_50 = 0\n",
    "charges_60 = 0\n",
    "charges_70 = 0\n",
    "\n",
    "for i in group_25:\n",
    "    charges_25 += float(i[1])\n",
    "print(\"The total amount of insurance charges for age group 18-25 is \" + str(int(charges_25)) + ' dollars.')\n",
    "\n",
    "for i in group_30:\n",
    "    charges_30 += float(i[1])\n",
    "print(\"The total amount of insurance charges for age group 25-30 is \" + str(int(charges_30)) + ' dollars.')\n",
    "\n",
    "for i in group_40:\n",
    "    charges_40 += float(i[1])\n",
    "print(\"The total amount of insurance charges for age group 30-40 is \" + str(int(charges_40)) + ' dollars.')\n",
    "\n",
    "for i in group_50:\n",
    "    charges_50 += float(i[1])\n",
    "print(\"The total amount of insurance charges for age group 40-50 is \" + str(int(charges_50)) + ' dollars.')\n",
    "\n",
    "for i in group_60:\n",
    "    charges_60 += float(i[1])\n",
    "print(\"The total amount of insurance charges for age group 50-60 is \" + str(int(charges_60)) + ' dollars.')\n",
    "\n",
    "for i in group_70:\n",
    "    charges_70 += float(i[1])\n",
    "print(\"The total amount of insurance charges for age group 60+ is \" + str(int(charges_70)) + ' dollars.')"
   ]
  },
  {
   "cell_type": "code",
   "execution_count": null,
   "id": "579fad7a-ceae-41e6-9dc0-8d3a2801c409",
   "metadata": {},
   "outputs": [],
   "source": []
  }
 ],
 "metadata": {
  "kernelspec": {
   "display_name": "Python 3 (ipykernel)",
   "language": "python",
   "name": "python3"
  },
  "language_info": {
   "codemirror_mode": {
    "name": "ipython",
    "version": 3
   },
   "file_extension": ".py",
   "mimetype": "text/x-python",
   "name": "python",
   "nbconvert_exporter": "python",
   "pygments_lexer": "ipython3",
   "version": "3.12.4"
  }
 },
 "nbformat": 4,
 "nbformat_minor": 5
}
