{
 "cells": [
  {
   "cell_type": "markdown",
   "metadata": {},
   "source": [
    "# U.S. Medical Insurance Costs\n",
    "In this project, a CSV file with medical insurance costs will be investigated using Python fundamentals. The goal with this project will be to analyze various attributes within insurance.csv to learn more about the patient information in the file and gain insight into potential use cases for the dataset."
   ]
  },
  {
   "cell_type": "code",
   "execution_count": null,
   "metadata": {},
   "outputs": [],
   "source": [
    "import csv"
   ]
  },
  {
   "cell_type": "markdown",
   "metadata": {},
   "source": [
    "Let's begin by importing the required libraries. For this analysis, I will primarily use the `csv` library to process the **insurance.csv** data. While other libraries could enhance our analysis, I will focus on using csv for simplicity.\n",
    "\n",
    "Before diving into the code, let's examine **insurance.csv** to understand its structure. I will analyze these key aspects:\n",
    "\n",
    "- Column and row structure\n",
    "- Data completeness\n",
    "- Data types (numeric and categorical variables)\n",
    "\n",
    "I will create seven empty lists to store each data column from **insurance.csv**:"
   ]
  },
  {
   "cell_type": "code",
   "execution_count": null,
   "metadata": {},
   "outputs": [],
   "source": [
    "ages = []\n",
    "sexes = []\n",
    "bmis = []\n",
    "num_children = []\n",
    "smoker_statuses = []\n",
    "regions = []\n",
    "insurance_charges = []"
   ]
  },
  {
   "cell_type": "markdown",
   "metadata": {},
   "source": [
    "The dataset contains these fields:\n",
    "\n",
    "- Age of patient\n",
    "- Gender\n",
    "- Body Mass Index (BMI)\n",
    "- Number of dependent children\n",
    "- Smoking status\n",
    "- Geographic region in U.S.\n",
    "- Annual medical insurance charges\n",
    "\n",
    "Initial inspection shows no missing values. I will use separate lists to store each column's data efficiently.\n",
    "\n",
    "\n",
    "Here's a helper function to streamline data loading:"
   ]
  },
  {
   "cell_type": "code",
   "execution_count": null,
   "metadata": {},
   "outputs": [],
   "source": [
    "def load_list_data(lst, csv_file, column_name):\n",
    "    # open csv file\n",
    "    with open(csv_file) as csv_info:\n",
    "        # read the data from the csv file\n",
    "        csv_dict = csv.DictReader(csv_info)\n",
    "        # loop through the data in each row of the csv\n",
    "        for row in csv_dict:\n",
    "            # add the data from each row to a list\n",
    "            lst.append(row[column_name])\n",
    "    # return the list\n",
    "    return lst"
   ]
  },
  {
   "cell_type": "markdown",
   "metadata": {},
   "source": [
    "This function makes our data loading process more efficient. Instead of writing separate code for each column, we can reuse this function multiple times.\n",
    "\n",
    "Now we can load each column of data:"
   ]
  },
  {
   "cell_type": "code",
   "execution_count": null,
   "metadata": {},
   "outputs": [],
   "source": [
    "load_list_data(ages, 'insurance.csv', 'age')\n",
    "load_list_data(sexes, 'insurance.csv', 'sex')\n",
    "load_list_data(bmis, 'insurance.csv', 'bmi')\n",
    "load_list_data(num_children, 'insurance.csv', 'children')\n",
    "load_list_data(smoker_statuses, 'insurance.csv', 'smoker')\n",
    "load_list_data(regions, 'insurance.csv', 'region')\n",
    "load_list_data(insurance_charges, 'insurance.csv', 'charges')"
   ]
  },
  {
   "cell_type": "markdown",
   "metadata": {},
   "source": [
    "With the data from **insurance.csv** now properly organized into labeled lists, we can begin our analysis. Let's outline the key questions I want to investigate and determine our analytical approach. Among the various potential areas of study, I will focus on these key analyses:\n",
    "\n",
    "- Calculate the mean patient age\n",
    "- Analyze gender distribution in the dataset\n",
    "- Identify patient distribution by region\n",
    "- Calculate mean annual medical expenses\n",
    "- Compile comprehensive patient records into a dictionary\n",
    "\n",
    "To execute these analyses efficiently, I have developed a `PatientsInfo` class with five specialized methods:\n",
    "\n",
    "- `analyze_ages()`\n",
    "- `analyze_sexes()`\n",
    "- `unique_regions()`\n",
    "- `average_charges()`\n",
    "- `create_dictionary()`\n",
    "\n",
    "The implementation of this class follows below."
   ]
  },
  {
   "cell_type": "code",
   "execution_count": 21,
   "metadata": {},
   "outputs": [],
   "source": [
    "class PatientsInfo:\n",
    "    def __init__(self, patients_ages, patients_sexes, patients_bmis, patients_num_children, \n",
    "                 patients_smoker_statuses, patients_regions, patients_charges):\n",
    "        self.patients_ages = patients_ages\n",
    "        self.patients_sexes = patients_sexes\n",
    "        self.patients_bmis = patients_bmis\n",
    "        self.patients_num_children = patients_num_children\n",
    "        self.patients_smoker_statuses = patients_smoker_statuses\n",
    "        self.patients_regions = patients_regions\n",
    "        self.patients_charges = patients_charges\n",
    "\n",
    "    def analyze_ages(self):\n",
    "        total_age = sum(int(age) for age in self.patients_ages)\n",
    "        average_age = total_age / len(self.patients_ages)\n",
    "        return f\"Average Patient Age: {round(average_age, 2)} years\"\n",
    "\n",
    "    def analyze_sexes(self):\n",
    "        females = sum(1 for sex in self.patients_sexes if sex == 'female')\n",
    "        males = sum(1 for sex in self.patients_sexes if sex == 'male')\n",
    "        print(f\"Count for female: {females}\")\n",
    "        print(f\"Count for male: {males}\")\n",
    "\n",
    "    def unique_regions(self):\n",
    "        return list(set(self.patients_regions))\n",
    "\n",
    "    def average_charges(self):\n",
    "        total_charges = sum(float(charge) for charge in self.patients_charges)\n",
    "        average = total_charges / len(self.patients_charges)\n",
    "        return f\"Average Yearly Medical Insurance Charges: {round(average, 2)} dollars.\"\n",
    "    \n",
    "    def create_dictionary(self):\n",
    "        return {\n",
    "            \"age\": [int(age) for age in self.patients_ages],\n",
    "            \"sex\": self.patients_sexes,\n",
    "            \"bmi\": self.patients_bmis,\n",
    "            \"children\": self.patients_num_children,\n",
    "            \"smoker\": self.patients_smoker_statuses,\n",
    "            \"regions\": self.patients_regions,\n",
    "            \"charges\": self.patients_charges\n",
    "        }"
   ]
  },
  {
   "cell_type": "markdown",
   "metadata": {},
   "source": [
    "Let's create an instance of the class called patient_info to execute our analysis methods and examine the results."
   ]
  },
  {
   "cell_type": "code",
   "execution_count": 24,
   "metadata": {},
   "outputs": [],
   "source": [
    "# Create instance of PatientsInfo class with our data\n",
    "patient_info = PatientsInfo(ages, sexes, bmis, num_children, smoker_statuses, regions, insurance_charges)"
   ]
  },
  {
   "cell_type": "code",
   "execution_count": 26,
   "metadata": {},
   "outputs": [
    {
     "data": {
      "text/plain": [
       "'Average Patient Age: 39.21 years'"
      ]
     },
     "execution_count": 26,
     "metadata": {},
     "output_type": "execute_result"
    }
   ],
   "source": [
    "patient_info.analyze_ages()"
   ]
  },
  {
   "cell_type": "markdown",
   "metadata": {},
   "source": [
    "Analysis reveals that the average patient age in **insurance.csv** is approximately 39 years. This demographic information helps validate whether the dataset effectively represents the broader population. When extrapolating findings to other populations, we must ensure the dataset is sufficiently comprehensive and diverse."
   ]
  },
  {
   "cell_type": "markdown",
   "metadata": {},
   "source": [
    "Additional statistical analysis examining the range and standard deviation would help confirm whether the age distribution in insurance.csv represents a true random sample."
   ]
  },
  {
   "cell_type": "code",
   "execution_count": 32,
   "metadata": {},
   "outputs": [
    {
     "name": "stdout",
     "output_type": "stream",
     "text": [
      "Count for female: 662\n",
      "Count for male: 676\n"
     ]
    }
   ],
   "source": [
    "patient_info.analyze_sexes()"
   ]
  },
  {
   "cell_type": "markdown",
   "metadata": {},
   "source": [
    "Examining gender distribution in **insurance.csv** is crucial for assessing population representation. This is particularly vital when developing classification models, where balanced attributes enhance statistical validity.\n",
    "\n",
    "In real-world scenarios, data often shows imbalances that can complicate statistical analysis. We'll explore these challenges in upcoming portfolio projects."
   ]
  },
  {
   "cell_type": "code",
   "execution_count": 38,
   "metadata": {},
   "outputs": [
    {
     "data": {
      "text/plain": [
       "['southwest', 'northwest', 'southeast', 'northeast']"
      ]
     },
     "execution_count": 38,
     "metadata": {},
     "output_type": "execute_result"
    }
   ],
   "source": [
    "patient_info.unique_regions()"
   ]
  },
  {
   "cell_type": "markdown",
   "metadata": {},
   "source": [
    "The dataset encompasses four distinct geographical regions within the United States."
   ]
  },
  {
   "cell_type": "code",
   "execution_count": 47,
   "metadata": {},
   "outputs": [
    {
     "data": {
      "text/plain": [
       "'Average Yearly Medical Insurance Charges: 13270.42 dollars.'"
      ]
     },
     "execution_count": 47,
     "metadata": {},
     "output_type": "execute_result"
    }
   ],
   "source": [
    "patient_info.average_charges()"
   ]
  },
  {
   "cell_type": "markdown",
   "metadata": {},
   "source": [
    "Our analysis shows the average annual medical insurance cost per person is $13,270. Future research could explore correlations between patient characteristics and insurance costs, such as examining whether age influences annual expenditure."
   ]
  },
  {
   "cell_type": "code",
   "execution_count": null,
   "metadata": {
    "scrolled": true
   },
   "outputs": [],
   "source": [
    "patient_info.create_dictionary()"
   ]
  },
  {
   "cell_type": "markdown",
   "metadata": {},
   "source": [
    "The patient information is efficiently stored in a dictionary format, facilitating additional analysis of the insurance.csv attributes if needed."
   ]
  }
 ],
 "metadata": {
  "kernelspec": {
   "display_name": "Python [conda env:base] *",
   "language": "python",
   "name": "conda-base-py"
  },
  "language_info": {
   "codemirror_mode": {
    "name": "ipython",
    "version": 3
   },
   "file_extension": ".py",
   "mimetype": "text/x-python",
   "name": "python",
   "nbconvert_exporter": "python",
   "pygments_lexer": "ipython3",
   "version": "3.12.4"
  }
 },
 "nbformat": 4,
 "nbformat_minor": 4
}
